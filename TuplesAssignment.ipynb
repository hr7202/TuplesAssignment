{
 "cells": [
  {
   "cell_type": "code",
   "execution_count": 1,
   "id": "46282705-d925-467a-972a-e4bc76dfb1bb",
   "metadata": {},
   "outputs": [],
   "source": [
    "#A tuple is a list of elements which are stored in a small bracket.It is immutable in a python."
   ]
  },
  {
   "cell_type": "code",
   "execution_count": 2,
   "id": "01b05873-2638-4505-956b-1d4dd6a0ffd7",
   "metadata": {},
   "outputs": [],
   "source": [
    "#This is the answer 1."
   ]
  },
  {
   "cell_type": "code",
   "execution_count": 3,
   "id": "8d935d77-7a9e-4ac4-8c6e-47b80226cd91",
   "metadata": {},
   "outputs": [],
   "source": [
    "#We create a tuple by putting the elements in a small bracket in a python."
   ]
  },
  {
   "cell_type": "code",
   "execution_count": 4,
   "id": "248718b1-1509-4f6c-89a7-2cb9c543c88e",
   "metadata": {},
   "outputs": [],
   "source": [
    "#This is the answer 2."
   ]
  },
  {
   "cell_type": "code",
   "execution_count": 7,
   "id": "c2ac80c3-328b-4434-a8f1-d8836e4610b7",
   "metadata": {},
   "outputs": [],
   "source": [
    "#Tuples are immutable and Lists are mutable in a python."
   ]
  },
  {
   "cell_type": "code",
   "execution_count": 8,
   "id": "a9f20f3c-28aa-49b8-a4bf-f179a1e4c47a",
   "metadata": {},
   "outputs": [],
   "source": [
    "#This is the answer 3."
   ]
  },
  {
   "cell_type": "code",
   "execution_count": null,
   "id": "fae6f3d1-d485-41b4-b751-028873578946",
   "metadata": {},
   "outputs": [],
   "source": [
    "#No, a tuple cannot be changed in a python as it is an immutable function."
   ]
  },
  {
   "cell_type": "code",
   "execution_count": 9,
   "id": "39f02ca9-5fbd-44a8-9ab8-ec930e397db6",
   "metadata": {},
   "outputs": [],
   "source": [
    "#This is the answer 4."
   ]
  },
  {
   "cell_type": "code",
   "execution_count": 10,
   "id": "48d60db7-837c-4038-9106-92901ba13ef7",
   "metadata": {},
   "outputs": [],
   "source": [
    "#We access elements in a tuple by the use of index and count functions."
   ]
  },
  {
   "cell_type": "code",
   "execution_count": 11,
   "id": "03bf5b5d-27d3-4ed2-90cd-c3c2979b6652",
   "metadata": {},
   "outputs": [],
   "source": [
    "#This is the answer 5."
   ]
  },
  {
   "cell_type": "code",
   "execution_count": null,
   "id": "3d0bf039-1c7d-49ab-924c-37acf76e2005",
   "metadata": {},
   "outputs": [],
   "source": [
    "#We unpack a tuple in python by writing the indexes "
   ]
  }
 ],
 "metadata": {
  "kernelspec": {
   "display_name": "Python 3 (ipykernel)",
   "language": "python",
   "name": "python3"
  },
  "language_info": {
   "codemirror_mode": {
    "name": "ipython",
    "version": 3
   },
   "file_extension": ".py",
   "mimetype": "text/x-python",
   "name": "python",
   "nbconvert_exporter": "python",
   "pygments_lexer": "ipython3",
   "version": "3.10.8"
  }
 },
 "nbformat": 4,
 "nbformat_minor": 5
}
